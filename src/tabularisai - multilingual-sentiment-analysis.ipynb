{
 "cells": [
  {
   "cell_type": "markdown",
   "id": "3e855696-65ba-429c-9159-7b7945eb88e7",
   "metadata": {},
   "source": [
    "https://huggingface.co/tabularisai/multilingual-sentiment-analysis"
   ]
  },
  {
   "cell_type": "code",
   "execution_count": null,
   "id": "1a5b8217-5d7a-4b46-8669-a4ec7b614921",
   "metadata": {},
   "outputs": [],
   "source": [
    "from transformers import pipeline\n",
    "pipe = pipeline(\"text-classification\", model=\"tabularisai/multilingual-sentiment-analysis\")"
   ]
  },
  {
   "cell_type": "code",
   "execution_count": null,
   "id": "a089e9d4-3f11-40c5-bc90-c55a50e5d5f9",
   "metadata": {},
   "outputs": [],
   "source": [
    "sentence = \"I love this product\"\n",
    "result = pipe(sentence)\n",
    "print(result)"
   ]
  },
  {
   "cell_type": "code",
   "execution_count": null,
   "id": "9059ef04-2be2-4d60-abec-57d0c77a2121",
   "metadata": {},
   "outputs": [],
   "source": [
    "sentence = \"I hate this product\"\n",
    "result = pipe(sentence)\n",
    "print(result)"
   ]
  },
  {
   "cell_type": "code",
   "execution_count": null,
   "id": "27bff680-d40a-458c-8be0-642a3b78b1aa",
   "metadata": {},
   "outputs": [],
   "source": [
    "sentence = \"I kinda like this product\"\n",
    "result = pipe(sentence)\n",
    "print(result)"
   ]
  },
  {
   "cell_type": "code",
   "execution_count": null,
   "id": "40dd7c7b-5454-464c-88e4-aa47287c1969",
   "metadata": {},
   "outputs": [],
   "source": [
    "sentence = \"I kinda find this product okay\"\n",
    "result = pipe(sentence)\n",
    "print(result)"
   ]
  },
  {
   "cell_type": "code",
   "execution_count": null,
   "id": "3a777acd-7e74-45b3-962c-ce62963eb119",
   "metadata": {},
   "outputs": [],
   "source": [
    "sentence = \"I kinda find this product only okay\"\n",
    "result = pipe(sentence)\n",
    "print(result)"
   ]
  }
 ],
 "metadata": {
  "kernelspec": {
   "display_name": "Python 3 (ipykernel)",
   "language": "python",
   "name": "python3"
  },
  "language_info": {
   "codemirror_mode": {
    "name": "ipython",
    "version": 3
   },
   "file_extension": ".py",
   "mimetype": "text/x-python",
   "name": "python",
   "nbconvert_exporter": "python",
   "pygments_lexer": "ipython3",
   "version": "3.10.12"
  }
 },
 "nbformat": 4,
 "nbformat_minor": 5
}
