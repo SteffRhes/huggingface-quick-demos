{
 "cells": [
  {
   "cell_type": "markdown",
   "id": "72216d2e-233f-43e4-b95a-eeb2e9f77b36",
   "metadata": {},
   "source": [
    "https://huggingface.co/AventIQ-AI/bert-named-entity-recognition"
   ]
  },
  {
   "cell_type": "code",
   "execution_count": null,
   "id": "acd91f97-07a2-4cdd-9f67-952c796f5312",
   "metadata": {},
   "outputs": [],
   "source": [
    "from transformers import BertTokenizerFast, BertForTokenClassification\n",
    "import torch\n",
    "\n",
    "device = \"cuda\" if torch.cuda.is_available() else \"cpu\"\n",
    "\n",
    "model_name = \"AventIQ-AI/bert-named-entity-recognition\"\n",
    "model = BertForTokenClassification.from_pretrained(model_name).to(device)\n",
    "tokenizer = BertTokenizerFast.from_pretrained(model_name)"
   ]
  },
  {
   "cell_type": "code",
   "execution_count": null,
   "id": "e16a05d9-714c-4b9c-bce5-51ac63149b17",
   "metadata": {},
   "outputs": [],
   "source": [
    "label_list = [\"O\", \"B-PER\", \"I-PER\", \"B-ORG\", \"I-ORG\", \"B-LOC\", \"I-LOC\", \"B-MISC\", \"I-MISC\"]"
   ]
  },
  {
   "cell_type": "code",
   "execution_count": null,
   "id": "54378337-6bab-4416-9d60-ef67f8efabee",
   "metadata": {},
   "outputs": [],
   "source": [
    "def predict_entities(text, model):\n",
    "\n",
    "    tokens = tokenizer(text, return_tensors=\"pt\", truncation=True)\n",
    "    tokens = {key: val.to(device) for key, val in tokens.items()}  # Move to CUDA\n",
    "\n",
    "    with torch.no_grad():\n",
    "        outputs = model(**tokens)\n",
    "    \n",
    "    logits = outputs.logits  # Extract logits\n",
    "    predictions = torch.argmax(logits, dim=2)  # Get highest probability labels\n",
    "\n",
    "    tokens_list = tokenizer.convert_ids_to_tokens(tokens[\"input_ids\"][0])\n",
    "    predicted_labels = [label_list[pred] for pred in predictions[0].cpu().numpy()]\n",
    "\n",
    "    final_tokens = []\n",
    "    final_labels = []\n",
    "    for token, label in zip(tokens_list, predicted_labels):\n",
    "        if token.startswith(\"##\"):  \n",
    "            final_tokens[-1] += token[2:]  # Merge subword\n",
    "        else:\n",
    "            final_tokens.append(token)\n",
    "            final_labels.append(label)\n",
    "\n",
    "    for token, label in zip(final_tokens, final_labels):\n",
    "        if token not in [\"[CLS]\", \"[SEP]\"]:\n",
    "            print(f\"{token}: {label}\")"
   ]
  },
  {
   "cell_type": "code",
   "execution_count": null,
   "id": "9513584b-6493-4c6c-a561-b540bd3283fc",
   "metadata": {},
   "outputs": [],
   "source": [
    "sample_text = \"The developer Stefan Resch is employed at the ACDH in Vienna, where he works on NLP topics.\"\n",
    "predict_entities(sample_text, model)"
   ]
  }
 ],
 "metadata": {
  "kernelspec": {
   "display_name": "Python 3 (ipykernel)",
   "language": "python",
   "name": "python3"
  },
  "language_info": {
   "codemirror_mode": {
    "name": "ipython",
    "version": 3
   },
   "file_extension": ".py",
   "mimetype": "text/x-python",
   "name": "python",
   "nbconvert_exporter": "python",
   "pygments_lexer": "ipython3",
   "version": "3.10.12"
  }
 },
 "nbformat": 4,
 "nbformat_minor": 5
}
